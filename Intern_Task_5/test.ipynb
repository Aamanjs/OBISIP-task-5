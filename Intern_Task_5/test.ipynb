import pandas as pd
import seaborn as sns
from sklearn.model_selection import train_test_split
from sklearn.linear_model import LinearRegression

df = pd.read_csv("Advertising.csv")
